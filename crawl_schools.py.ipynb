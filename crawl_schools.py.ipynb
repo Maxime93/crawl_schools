{
 "cells": [
  {
   "cell_type": "code",
   "execution_count": 11,
   "metadata": {
    "collapsed": false
   },
   "outputs": [],
   "source": [
    "import pandas as pd\n",
    "import numpy as np\n",
    "import html5lib\n",
    "from bs4 import BeautifulSoup\n",
    "import urllib\n",
    "import pprint\n",
    "import re\n",
    "import sys\n",
    "import string\n",
    "import subprocess"
   ]
  },
  {
   "cell_type": "code",
   "execution_count": 12,
   "metadata": {
    "collapsed": true
   },
   "outputs": [],
   "source": [
    "reload(sys)\n",
    "sys.setdefaultencoding('utf-8')"
   ]
  },
  {
   "cell_type": "code",
   "execution_count": 13,
   "metadata": {
    "collapsed": false
   },
   "outputs": [
    {
     "data": {
      "text/html": [
       "<div>\n",
       "<table border=\"1\" class=\"dataframe\">\n",
       "  <thead>\n",
       "    <tr style=\"text-align: right;\">\n",
       "      <th></th>\n",
       "      <th>Adresse</th>\n",
       "      <th>Téléphone</th>\n",
       "      <th>Fax</th>\n",
       "      <th>Site Internet</th>\n",
       "      <th>Mail</th>\n",
       "      <th>Mail 2</th>\n",
       "      <th>Académie</th>\n",
       "      <th>Statut</th>\n",
       "      <th>Effectif général</th>\n",
       "      <th>Niveau min</th>\n",
       "      <th>Niveau max</th>\n",
       "      <th>Régime</th>\n",
       "      <th>Direction</th>\n",
       "    </tr>\n",
       "  </thead>\n",
       "  <tbody>\n",
       "    <tr>\n",
       "      <th>1</th>\n",
       "      <td>10 boulevard Gambetta77000 MELUNFrance</td>\n",
       "      <td>01 64 52 39 77</td>\n",
       "      <td>01 60 68 29 65</td>\n",
       "      <td>http://www.sainte-marie-melun.org ou http://ww...</td>\n",
       "      <td>NaN</td>\n",
       "      <td>NaN</td>\n",
       "      <td>Académie de Créteil Académie de Créteil sur ww...</td>\n",
       "      <td>Sous Contrat</td>\n",
       "      <td>564</td>\n",
       "      <td>Maternelle</td>\n",
       "      <td>3ème</td>\n",
       "      <td>Externat •  Demi-pension</td>\n",
       "      <td>Madame Brigitte Humbert, Chef d'établissement ...</td>\n",
       "    </tr>\n",
       "  </tbody>\n",
       "</table>\n",
       "</div>"
      ],
      "text/plain": [
       "                                  Adresse       Téléphone             Fax  \\\n",
       "1  10 boulevard Gambetta77000 MELUNFrance  01 64 52 39 77  01 60 68 29 65   \n",
       "\n",
       "                                       Site Internet Mail Mail 2  \\\n",
       "1  http://www.sainte-marie-melun.org ou http://ww...  NaN    NaN   \n",
       "\n",
       "                                            Académie        Statut  \\\n",
       "1  Académie de Créteil Académie de Créteil sur ww...  Sous Contrat   \n",
       "\n",
       "  Effectif général  Niveau min Niveau max                    Régime  \\\n",
       "1              564  Maternelle       3ème  Externat •  Demi-pension   \n",
       "\n",
       "                                           Direction  \n",
       "1  Madame Brigitte Humbert, Chef d'établissement ...  "
      ]
     },
     "execution_count": 13,
     "metadata": {},
     "output_type": "execute_result"
    }
   ],
   "source": [
    "school = \"https://www.fabert.com/etablissement-prive/2407/\"\n",
    "\n",
    "def refactor(word):\n",
    "    return word.strip(\" :\")\n",
    "\n",
    "the_school = pd.read_html(school,index_col=0)[1]\n",
    "the_school.index = the_school.index.map(refactor)\n",
    "the_school = the_school.transpose()\n",
    "the_school\n",
    "\n",
    "# Mettre en forme le tableau"
   ]
  },
  {
   "cell_type": "code",
   "execution_count": 14,
   "metadata": {
    "collapsed": false
   },
   "outputs": [],
   "source": [
    "ecole = \"https://www.fabert.com/etablissement-prive/2407/\"\n",
    "html = urllib.urlopen(ecole).read()\n",
    "soup = BeautifulSoup(html, \"lxml\")\n",
    "\n",
    "tags = soup('span',{ 'class' : 'encoded' })\n",
    "for tag in tags:\n",
    "    print tag['data-content']\n",
    "\n",
    "print\n",
    "print html"
   ]
  },
  {
   "cell_type": "code",
   "execution_count": 15,
   "metadata": {
    "collapsed": false
   },
   "outputs": [],
   "source": [
    "# print(subprocess.check_output([\"ls\", \"-l\"]))\n",
    "# subprocess.check_output([\"echo\", \"maxime\"])\n",
    "\n",
    "decoded = []\n",
    "\n",
    "for tag in tags:\n",
    "    code = tag[\"data-content\"]\n",
    "#     print type(code)\n",
    "    decoded.append(subprocess.check_output(\n",
    "        [\"node\", \n",
    "         \"max.js\", \n",
    "         code\n",
    "        ]))\n",
    "\n",
    "adresses = []\n",
    "for dec in decoded:\n",
    "#     print re.findall(r\"[A-Za-z0-9._%+-]+@[A-Za-z0-9.-]+\\.[A-Za-z]{2,4}\",dec)\n",
    "    adresses += re.findall(r\"[A-Za-z0-9._%+-]+@[A-Za-z0-9.-]+\\.[A-Za-z]{2,4}\",dec)\n",
    "    \n",
    "adresses = set(adresses)\n",
    "adresses = list(adresses)\n",
    "print adresses\n",
    "    \n",
    "# subprocess.check_output([\"node\", \"encode.js\", \"PGEgcmVsPSJub2ZvbGxvdyIgaHJlZj0iL3RyYWNrLzU0MzMvZW1haWwuaHRtbD9lbWFpbD1zdG1hbmRlLnBpY3B1cyU0MGZyZWUuZnIiPnN0bWFuZGUucGljcHVzQGZyZWUuZnI8L2E+\"])\n",
    "\n",
    "# os.system(\"echo maxime\")"
   ]
  },
  {
   "cell_type": "code",
   "execution_count": 16,
   "metadata": {
    "collapsed": false
   },
   "outputs": [
    {
     "data": {
      "text/plain": [
       "Index([u'Adresse', u'Téléphone', u'Fax', u'Site Internet', u'Mail', u'Mail 2',\n",
       "       u'Académie', u'Statut', u'Effectif général', u'Niveau min',\n",
       "       u'Niveau max', u'Régime', u'Direction'],\n",
       "      dtype='object')"
      ]
     },
     "execution_count": 16,
     "metadata": {},
     "output_type": "execute_result"
    }
   ],
   "source": [
    "the_school.columns"
   ]
  },
  {
   "cell_type": "code",
   "execution_count": 17,
   "metadata": {
    "collapsed": false
   },
   "outputs": [
    {
     "data": {
      "text/html": [
       "<div>\n",
       "<table border=\"1\" class=\"dataframe\">\n",
       "  <thead>\n",
       "    <tr style=\"text-align: right;\">\n",
       "      <th></th>\n",
       "      <th>Adresse</th>\n",
       "      <th>Téléphone</th>\n",
       "      <th>Fax</th>\n",
       "      <th>Site Internet</th>\n",
       "      <th>Mail</th>\n",
       "      <th>Mail 2</th>\n",
       "      <th>Académie</th>\n",
       "      <th>Statut</th>\n",
       "      <th>Effectif général</th>\n",
       "      <th>Niveau min</th>\n",
       "      <th>Niveau max</th>\n",
       "      <th>Régime</th>\n",
       "      <th>Direction</th>\n",
       "    </tr>\n",
       "  </thead>\n",
       "  <tbody>\n",
       "    <tr>\n",
       "      <th>1</th>\n",
       "      <td>10 boulevard Gambetta77000 MELUNFrance</td>\n",
       "      <td>01 64 52 39 77</td>\n",
       "      <td>01 60 68 29 65</td>\n",
       "      <td>http://www.sainte-marie-melun.org ou http://ww...</td>\n",
       "      <td>stemarie77@wanadoo.fr</td>\n",
       "      <td>saintemariemelun@wanadoo.fr</td>\n",
       "      <td>Académie de Créteil Académie de Créteil sur ww...</td>\n",
       "      <td>Sous Contrat</td>\n",
       "      <td>564</td>\n",
       "      <td>Maternelle</td>\n",
       "      <td>3ème</td>\n",
       "      <td>Externat •  Demi-pension</td>\n",
       "      <td>Madame Brigitte Humbert, Chef d'établissement ...</td>\n",
       "    </tr>\n",
       "  </tbody>\n",
       "</table>\n",
       "</div>"
      ],
      "text/plain": [
       "                                  Adresse       Téléphone             Fax  \\\n",
       "1  10 boulevard Gambetta77000 MELUNFrance  01 64 52 39 77  01 60 68 29 65   \n",
       "\n",
       "                                       Site Internet                   Mail  \\\n",
       "1  http://www.sainte-marie-melun.org ou http://ww...  stemarie77@wanadoo.fr   \n",
       "\n",
       "                        Mail 2  \\\n",
       "1  saintemariemelun@wanadoo.fr   \n",
       "\n",
       "                                            Académie        Statut  \\\n",
       "1  Académie de Créteil Académie de Créteil sur ww...  Sous Contrat   \n",
       "\n",
       "  Effectif général  Niveau min Niveau max                    Régime  \\\n",
       "1              564  Maternelle       3ème  Externat •  Demi-pension   \n",
       "\n",
       "                                           Direction  \n",
       "1  Madame Brigitte Humbert, Chef d'établissement ...  "
      ]
     },
     "execution_count": 17,
     "metadata": {},
     "output_type": "execute_result"
    }
   ],
   "source": [
    "# len(adresses)\n",
    "# adresses = [\"sgwsgsdg\",\"sadfaf\",\"saegagag\"]\n",
    "print(len(adresses))\n",
    "if len(adresses) == 1:\n",
    "    the_school.set_value(1, \"Mail :\", adresses[0])\n",
    "elif len(adresses) > 1:\n",
    "    count = 0\n",
    "    for adresse in adresses:\n",
    "        if count == 0:\n",
    "            the_school.set_value(1, \"Mail\", adresses[0])\n",
    "        else:\n",
    "            the_school.set_value(1, \"Mail \"+str(count+1), adresses[count])\n",
    "        count+=1\n",
    "\n",
    "the_school"
   ]
  },
  {
   "cell_type": "code",
   "execution_count": 106,
   "metadata": {
    "collapsed": false
   },
   "outputs": [],
   "source": [
    "# Add to a global csv file\n",
    "# the_school.to_csv(\"csv_test.csv\")"
   ]
  },
  {
   "cell_type": "code",
   "execution_count": 110,
   "metadata": {
    "collapsed": false
   },
   "outputs": [],
   "source": [
    "# Rajouter le titre\n",
    "title = soup.title.string\n",
    "print(title)\n",
    "\n",
    "# the_school.index = [title]\n",
    "the_school[\"Nom\"] = title\n",
    "# the_school\n",
    "cols = the_school.columns\n",
    "print cols\n",
    "# df.rename(index=str, columns={\"A\": \"a\", \"B\": \"c\"})\n",
    "\n"
   ]
  },
  {
   "cell_type": "code",
   "execution_count": 18,
   "metadata": {
    "collapsed": true
   },
   "outputs": [],
   "source": [
    "# Mettre option csv\n",
    "the_school.to_csv(\"hello.csv\")"
   ]
  },
  {
   "cell_type": "code",
   "execution_count": null,
   "metadata": {
    "collapsed": true
   },
   "outputs": [],
   "source": [
    "# save to db\n",
    "# SQLite\n",
    "\n"
   ]
  }
 ],
 "metadata": {
  "anaconda-cloud": {},
  "kernelspec": {
   "display_name": "Python [default]",
   "language": "python",
   "name": "python2"
  },
  "language_info": {
   "codemirror_mode": {
    "name": "ipython",
    "version": 2
   },
   "file_extension": ".py",
   "mimetype": "text/x-python",
   "name": "python",
   "nbconvert_exporter": "python",
   "pygments_lexer": "ipython2",
   "version": "2.7.12"
  }
 },
 "nbformat": 4,
 "nbformat_minor": 1
}
